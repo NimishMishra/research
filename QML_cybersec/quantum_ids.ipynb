{
 "cells": [
  {
   "cell_type": "code",
   "execution_count": 1,
   "metadata": {},
   "outputs": [
    {
     "name": "stderr",
     "output_type": "stream",
     "text": [
      "Using TensorFlow backend.\n"
     ]
    }
   ],
   "source": [
    "# from keras.layers import Input, Dense\n",
    "# from keras.models import Model\n",
    "# from keras import backend\n",
    "import tensorflow as tf\n",
    "import keras\n",
    "import pandas as pd\n",
    "import io\n",
    "import requests\n",
    "import numpy as np\n",
    "import os\n",
    "from sklearn.model_selection import train_test_split\n",
    "from sklearn import metrics\n",
    "\n",
    "from tensorflow import keras\n",
    "from tensorflow.keras.models import Model\n",
    "from tensorflow.keras.layers import Input, Dense, Layer\n",
    "from tensorflow.keras.optimizers import Adam\n",
    "from tensorflow.keras.callbacks import EarlyStopping\n",
    "from tensorflow.python.eager.context import context, EAGER_MODE, GRAPH_MODE\n",
    "\n",
    "\n",
    "# from keras.models import Sequential\n",
    "# from keras.layers import Dense, Activation\n",
    "# from keras.callbacks import EarlyStopping, ModelCheckpoint"
   ]
  },
  {
   "cell_type": "code",
   "execution_count": 2,
   "metadata": {},
   "outputs": [],
   "source": [
    "loaded_x_train = pd.read_csv(\"./Dataset/x_train.csv\")\n",
    "loaded_y_train = pd.read_csv(\"./Dataset/y_train.csv\")\n",
    "loaded_x_test = pd.read_csv(\"./Dataset/x_test.csv\")\n",
    "loaded_y_test = pd.read_csv(\"./Dataset/y_test.csv\")"
   ]
  },
  {
   "cell_type": "code",
   "execution_count": 3,
   "metadata": {},
   "outputs": [
    {
     "name": "stdout",
     "output_type": "stream",
     "text": [
      "(370515, 120)\n",
      "(123506, 120)\n",
      "(370515, 23)\n",
      "(123506, 23)\n"
     ]
    }
   ],
   "source": [
    "print(loaded_x_train.shape)\n",
    "print(loaded_x_test.shape)\n",
    "print(loaded_y_train.shape)\n",
    "print(loaded_y_test.shape)"
   ]
  },
  {
   "cell_type": "code",
   "execution_count": 4,
   "metadata": {},
   "outputs": [],
   "source": [
    "loaded_x_train_numpy = np.array(loaded_x_train)\n",
    "loaded_x_test_numpy = np.array(loaded_x_test)\n",
    "loaded_y_train_numpy = np.array(loaded_y_train)\n",
    "loaded_y_test_numpy = np.array(loaded_y_test)"
   ]
  },
  {
   "cell_type": "code",
   "execution_count": 39,
   "metadata": {},
   "outputs": [],
   "source": [
    "from qiskit import QuantumRegister, QuantumCircuit, ClassicalRegister\n",
    "import qiskit\n",
    "from qiskit.aqua.operators import Z\n",
    "from qiskit.aqua.operators import StateFn\n",
    "quantumRegister = QuantumRegister(4)\n",
    "quantumCircuit = QuantumCircuit(quantumRegister)\n",
    "backend = qiskit.Aer.get_backend(\"qasm_simulator\")\n",
    "operatorZ = Z ^ Z ^ Z ^ Z ^ Z ^ Z ^ Z ^ Z"
   ]
  },
  {
   "cell_type": "code",
   "execution_count": 6,
   "metadata": {},
   "outputs": [],
   "source": [
    "from qiskit import IBMQ\n",
    "from qiskit.providers.ibmq import least_busy"
   ]
  },
  {
   "cell_type": "code",
   "execution_count": 7,
   "metadata": {},
   "outputs": [
    {
     "name": "stdout",
     "output_type": "stream",
     "text": [
      "ibmq_16_melbourne\n"
     ]
    }
   ],
   "source": [
    "provider = IBMQ.load_account()\n",
    "device = least_busy(provider.backends(filters=lambda x: x.configuration().n_qubits >= 8 and \n",
    "                                   not x.configuration().simulator and x.status().operational==True))\n",
    "print(device)"
   ]
  },
  {
   "cell_type": "code",
   "execution_count": 41,
   "metadata": {},
   "outputs": [],
   "source": [
    "import time\n",
    "def quantum_layer(initial_parameters, rotation_parameters):\n",
    "    # expecting parameters to be a numpy array\n",
    "\n",
    "    quantumRegister = QuantumRegister(8)\n",
    "    quantumCircuit = QuantumCircuit(quantumRegister)\n",
    "    backend = qiskit.Aer.get_backend(\"qasm_simulator\")\n",
    "    index = 0\n",
    "    quantumCircuit.h(range(8))\n",
    "\n",
    "    for i in range(len(initial_parameters)):\n",
    "        quantumCircuit.ry(initial_parameters[i] * np.pi, i)\n",
    "\n",
    "    while (index <= 7):\n",
    "\n",
    "        parameter_1 = rotation_parameters[index]\n",
    "        qubit_one = index\n",
    "        index = index + 1\n",
    "        parameter_2 = rotation_parameters[index]\n",
    "        qubit_two = index\n",
    "        index = index + 1\n",
    "\n",
    "        quantumCircuit.cry(2 * parameter_1 * np.pi, qubit_one, qubit_two)\n",
    "        quantumCircuit.cry(2 * parameter_2 * np.pi, qubit_two, qubit_one)\n",
    "    \n",
    "    \n",
    "    \n",
    "    psi = StateFn(quantumCircuit)\n",
    "    expectationZ = (~psi @ operatorZ @ psi).eval()\n",
    "    # expectationZ = psi.adjoint().compose(operatorZ).compose(psi).eval().real\n",
    "    print(expectationZ)\n",
    "    \n",
    "#     expectations = [200* np.abs(np.real(expectationZ)), 400*np.abs(np.real(expectationZ)), 600*np.abs(np.real(expectationZ)),\n",
    "#                     800 * np.abs(np.real(expectationZ)), 1000 * np.abs(np.real(expectationZ)), 300 * np.abs(np.real(expectationZ)),\n",
    "#                     500 * np.abs(np.real(expectationZ)), 700 * np.abs(np.real(expectationZ)) ]\n",
    "\n",
    "    quantumCircuit.measure_all()\n",
    "    result = qiskit.execute(quantumCircuit, backend, shots=1000).result()\n",
    "    counts = result.get_counts(quantumCircuit)\n",
    "\n",
    "    del(quantumCircuit)\n",
    "    del(quantumRegister)\n",
    "    # print(\"Exp input {input}, w {w}, expectation {expectation}\".format(input=np.mean(initial_parameters), w=np.mean(\n",
    "    #     rotation_parameters), expectation=np.mean(expectation*10000)\n",
    "    #  ))\n",
    "\n",
    "\n",
    "    return counts\n",
    "\n",
    "\n",
    "def quantum_operation(initial_parameters, rotation_parameters):\n",
    "    final_output = []\n",
    "    for i in range(initial_parameters.shape[0]):\n",
    "        pred = quantum_layer(initial_parameters[i], rotation_parameters[i])\n",
    "        final_output.append(list(pred))\n",
    "    return final_output"
   ]
  },
  {
   "cell_type": "code",
   "execution_count": 10,
   "metadata": {},
   "outputs": [
    {
     "name": "stdout",
     "output_type": "stream",
     "text": [
      "<class 'qiskit.aqua.operators.primitive_ops.pauli_op.PauliOp'>\n"
     ]
    }
   ],
   "source": [
    "print(type(operatorZ))"
   ]
  },
  {
   "cell_type": "code",
   "execution_count": 13,
   "metadata": {},
   "outputs": [],
   "source": [
    "from qiskit.quantum_info.analysis.average import average_data"
   ]
  },
  {
   "cell_type": "code",
   "execution_count": 42,
   "metadata": {},
   "outputs": [
    {
     "ename": "ValueError",
     "evalue": "Composition is not defined over Operators of different dimensions, 16 and 8, respectively.",
     "output_type": "error",
     "traceback": [
      "\u001b[0;31m---------------------------------------------------------------------------\u001b[0m",
      "\u001b[0;31mValueError\u001b[0m                                Traceback (most recent call last)",
      "\u001b[0;32m<ipython-input-42-6b2ab723b032>\u001b[0m in \u001b[0;36m<module>\u001b[0;34m\u001b[0m\n\u001b[0;32m----> 1\u001b[0;31m \u001b[0mcounts\u001b[0m \u001b[0;34m=\u001b[0m \u001b[0mquantum_layer\u001b[0m\u001b[0;34m(\u001b[0m\u001b[0;34m[\u001b[0m\u001b[0;36m0.2\u001b[0m\u001b[0;34m,\u001b[0m \u001b[0;36m0.2\u001b[0m\u001b[0;34m,\u001b[0m \u001b[0;36m0.1\u001b[0m\u001b[0;34m,\u001b[0m \u001b[0;36m0.6\u001b[0m\u001b[0;34m,\u001b[0m \u001b[0;36m0.7\u001b[0m\u001b[0;34m,\u001b[0m \u001b[0;36m0.5\u001b[0m\u001b[0;34m,\u001b[0m \u001b[0;36m0.1\u001b[0m\u001b[0;34m,\u001b[0m \u001b[0;36m0.8\u001b[0m\u001b[0;34m]\u001b[0m\u001b[0;34m,\u001b[0m \u001b[0;34m[\u001b[0m\u001b[0;36m0.2\u001b[0m\u001b[0;34m,\u001b[0m \u001b[0;36m0.2\u001b[0m\u001b[0;34m,\u001b[0m \u001b[0;36m0.1\u001b[0m\u001b[0;34m,\u001b[0m \u001b[0;36m0.6\u001b[0m\u001b[0;34m,\u001b[0m \u001b[0;36m0.7\u001b[0m\u001b[0;34m,\u001b[0m \u001b[0;36m0.5\u001b[0m\u001b[0;34m,\u001b[0m \u001b[0;36m0.1\u001b[0m\u001b[0;34m,\u001b[0m \u001b[0;36m0.8\u001b[0m\u001b[0;34m]\u001b[0m\u001b[0;34m)\u001b[0m\u001b[0;34m\u001b[0m\u001b[0;34m\u001b[0m\u001b[0m\n\u001b[0m",
      "\u001b[0;32m<ipython-input-41-da95c201fb6b>\u001b[0m in \u001b[0;36mquantum_layer\u001b[0;34m(initial_parameters, rotation_parameters)\u001b[0m\n\u001b[1;32m     27\u001b[0m \u001b[0;34m\u001b[0m\u001b[0m\n\u001b[1;32m     28\u001b[0m     \u001b[0mpsi\u001b[0m \u001b[0;34m=\u001b[0m \u001b[0mStateFn\u001b[0m\u001b[0;34m(\u001b[0m\u001b[0mquantumCircuit\u001b[0m\u001b[0;34m)\u001b[0m\u001b[0;34m\u001b[0m\u001b[0;34m\u001b[0m\u001b[0m\n\u001b[0;32m---> 29\u001b[0;31m     \u001b[0mexpectationZ\u001b[0m \u001b[0;34m=\u001b[0m \u001b[0;34m(\u001b[0m\u001b[0;34m~\u001b[0m\u001b[0mpsi\u001b[0m \u001b[0;34m@\u001b[0m \u001b[0moperatorZ\u001b[0m \u001b[0;34m@\u001b[0m \u001b[0mpsi\u001b[0m\u001b[0;34m)\u001b[0m\u001b[0;34m.\u001b[0m\u001b[0meval\u001b[0m\u001b[0;34m(\u001b[0m\u001b[0;34m)\u001b[0m\u001b[0;34m\u001b[0m\u001b[0;34m\u001b[0m\u001b[0m\n\u001b[0m\u001b[1;32m     30\u001b[0m     \u001b[0;31m# expectationZ = psi.adjoint().compose(operatorZ).compose(psi).eval().real\u001b[0m\u001b[0;34m\u001b[0m\u001b[0;34m\u001b[0m\u001b[0;34m\u001b[0m\u001b[0m\n\u001b[1;32m     31\u001b[0m     \u001b[0mprint\u001b[0m\u001b[0;34m(\u001b[0m\u001b[0mexpectationZ\u001b[0m\u001b[0;34m)\u001b[0m\u001b[0;34m\u001b[0m\u001b[0;34m\u001b[0m\u001b[0m\n",
      "\u001b[0;32m/Library/Frameworks/Python.framework/Versions/3.6/lib/python3.6/site-packages/qiskit/aqua/operators/operator_base.py\u001b[0m in \u001b[0;36m__matmul__\u001b[0;34m(self, other)\u001b[0m\n\u001b[1;32m    473\u001b[0m             \u001b[0mAn\u001b[0m\u001b[0;31m \u001b[0m\u001b[0;31m`\u001b[0m\u001b[0;31m`\u001b[0m\u001b[0mOperatorBase\u001b[0m\u001b[0;31m`\u001b[0m\u001b[0;31m`\u001b[0m \u001b[0mequivalent\u001b[0m \u001b[0mto\u001b[0m \u001b[0mthe\u001b[0m \u001b[0mfunction\u001b[0m \u001b[0mcomposition\u001b[0m \u001b[0mof\u001b[0m \u001b[0mself\u001b[0m \u001b[0;32mand\u001b[0m \u001b[0mother\u001b[0m\u001b[0;34m.\u001b[0m\u001b[0;34m\u001b[0m\u001b[0;34m\u001b[0m\u001b[0m\n\u001b[1;32m    474\u001b[0m         \"\"\"\n\u001b[0;32m--> 475\u001b[0;31m         \u001b[0;32mreturn\u001b[0m \u001b[0mself\u001b[0m\u001b[0;34m.\u001b[0m\u001b[0mcompose\u001b[0m\u001b[0;34m(\u001b[0m\u001b[0mother\u001b[0m\u001b[0;34m)\u001b[0m\u001b[0;34m\u001b[0m\u001b[0;34m\u001b[0m\u001b[0m\n\u001b[0m\u001b[1;32m    476\u001b[0m \u001b[0;34m\u001b[0m\u001b[0m\n\u001b[1;32m    477\u001b[0m     \u001b[0;34m@\u001b[0m\u001b[0mabstractmethod\u001b[0m\u001b[0;34m\u001b[0m\u001b[0;34m\u001b[0m\u001b[0m\n",
      "\u001b[0;32m/Library/Frameworks/Python.framework/Versions/3.6/lib/python3.6/site-packages/qiskit/aqua/operators/state_fns/circuit_state_fn.py\u001b[0m in \u001b[0;36mcompose\u001b[0;34m(self, other)\u001b[0m\n\u001b[1;32m    145\u001b[0m                 'Composition with a Statefunctions in the first operand is not defined.')\n\u001b[1;32m    146\u001b[0m \u001b[0;34m\u001b[0m\u001b[0m\n\u001b[0;32m--> 147\u001b[0;31m         \u001b[0mnew_self\u001b[0m\u001b[0;34m,\u001b[0m \u001b[0mother\u001b[0m \u001b[0;34m=\u001b[0m \u001b[0mself\u001b[0m\u001b[0;34m.\u001b[0m\u001b[0m_check_zero_for_composition_and_expand\u001b[0m\u001b[0;34m(\u001b[0m\u001b[0mother\u001b[0m\u001b[0;34m)\u001b[0m\u001b[0;34m\u001b[0m\u001b[0;34m\u001b[0m\u001b[0m\n\u001b[0m\u001b[1;32m    148\u001b[0m \u001b[0;34m\u001b[0m\u001b[0m\n\u001b[1;32m    149\u001b[0m         \u001b[0;31m# pylint: disable=cyclic-import,import-outside-toplevel\u001b[0m\u001b[0;34m\u001b[0m\u001b[0;34m\u001b[0m\u001b[0;34m\u001b[0m\u001b[0m\n",
      "\u001b[0;32m/Library/Frameworks/Python.framework/Versions/3.6/lib/python3.6/site-packages/qiskit/aqua/operators/state_fns/state_fn.py\u001b[0m in \u001b[0;36m_check_zero_for_composition_and_expand\u001b[0;34m(self, other)\u001b[0m\n\u001b[1;32m    206\u001b[0m                 raise ValueError(\n\u001b[1;32m    207\u001b[0m                     \u001b[0;34m'Composition is not defined over Operators of different dimensions, {} and {}, '\u001b[0m\u001b[0;34m\u001b[0m\u001b[0;34m\u001b[0m\u001b[0m\n\u001b[0;32m--> 208\u001b[0;31m                     'respectively.'.format(self.num_qubits, other.num_qubits))\n\u001b[0m\u001b[1;32m    209\u001b[0m \u001b[0;34m\u001b[0m\u001b[0m\n\u001b[1;32m    210\u001b[0m         \u001b[0;32mreturn\u001b[0m \u001b[0mnew_self\u001b[0m\u001b[0;34m,\u001b[0m \u001b[0mother\u001b[0m\u001b[0;34m\u001b[0m\u001b[0;34m\u001b[0m\u001b[0m\n",
      "\u001b[0;31mValueError\u001b[0m: Composition is not defined over Operators of different dimensions, 16 and 8, respectively."
     ]
    }
   ],
   "source": [
    "counts = quantum_layer([0.2, 0.2, 0.1, 0.6, 0.7, 0.5, 0.1, 0.8], [0.2, 0.2, 0.1, 0.6, 0.7, 0.5, 0.1, 0.8])"
   ]
  },
  {
   "cell_type": "code",
   "execution_count": 32,
   "metadata": {},
   "outputs": [
    {
     "data": {
      "text/plain": [
       "0"
      ]
     },
     "execution_count": 32,
     "metadata": {},
     "output_type": "execute_result"
    }
   ],
   "source": [
    "average_data(counts, [Z, Z, Z, Z, Z, Z, Z, Z])"
   ]
  },
  {
   "cell_type": "code",
   "execution_count": 40,
   "metadata": {},
   "outputs": [
    {
     "data": {
      "text/plain": [
       "PauliOp(Pauli(z=[True, True, True, True, True, True, True, True], x=[False, False, False, False, False, False, False, False]), coeff=1.0)"
      ]
     },
     "execution_count": 40,
     "metadata": {},
     "output_type": "execute_result"
    }
   ],
   "source": [
    "operatorZ"
   ]
  },
  {
   "cell_type": "code",
   "execution_count": null,
   "metadata": {},
   "outputs": [],
   "source": []
  }
 ],
 "metadata": {
  "kernelspec": {
   "display_name": "Python 3",
   "language": "python",
   "name": "python3"
  },
  "language_info": {
   "codemirror_mode": {
    "name": "ipython",
    "version": 3
   },
   "file_extension": ".py",
   "mimetype": "text/x-python",
   "name": "python",
   "nbconvert_exporter": "python",
   "pygments_lexer": "ipython3",
   "version": "3.6.7"
  }
 },
 "nbformat": 4,
 "nbformat_minor": 2
}
